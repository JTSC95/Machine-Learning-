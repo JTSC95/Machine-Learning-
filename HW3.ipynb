{
 "cells": [
  {
   "cell_type": "code",
   "execution_count": 19,
   "metadata": {
    "collapsed": false
   },
   "outputs": [],
   "source": [
    "import numpy as np\n",
    "import pandas as pd\n",
    "\n",
    "import matplotlib.pyplot as plt\n",
    "\n",
    "from sklearn.model_selection import train_test_split\n",
    "from sklearn.linear_model import LogisticRegression\n",
    "from sklearn.dummy import DummyClassifier\n",
    "from sklearn.metrics import classification_report\n",
    "from sklearn.feature_extraction.text import CountVectorizer, TfidfVectorizer\n",
    "from sklearn.model_selection import StratifiedKFold, cross_val_score, train_test_split\n",
    "from sklearn.ensemble import RandomForestClassifier\n",
    "from sklearn.naive_bayes import MultinomialNB\n",
    "from nltk import word_tokenize\n",
    "\n",
    "import os\n",
    "import random"
   ]
  },
  {
   "cell_type": "code",
   "execution_count": 2,
   "metadata": {
    "collapsed": true
   },
   "outputs": [],
   "source": [
    "df = pd.read_csv('All-seasons.csv')"
   ]
  },
  {
   "cell_type": "code",
   "execution_count": 3,
   "metadata": {
    "collapsed": false
   },
   "outputs": [
    {
     "data": {
      "text/html": [
       "<div>\n",
       "<table border=\"1\" class=\"dataframe\">\n",
       "  <thead>\n",
       "    <tr style=\"text-align: right;\">\n",
       "      <th></th>\n",
       "      <th>Season</th>\n",
       "      <th>Episode</th>\n",
       "      <th>Character</th>\n",
       "      <th>Line</th>\n",
       "    </tr>\n",
       "  </thead>\n",
       "  <tbody>\n",
       "    <tr>\n",
       "      <th>0</th>\n",
       "      <td>10</td>\n",
       "      <td>1</td>\n",
       "      <td>Stan</td>\n",
       "      <td>You guys, you guys! Chef is going away. \\n</td>\n",
       "    </tr>\n",
       "    <tr>\n",
       "      <th>1</th>\n",
       "      <td>10</td>\n",
       "      <td>1</td>\n",
       "      <td>Kyle</td>\n",
       "      <td>Going away? For how long?\\n</td>\n",
       "    </tr>\n",
       "    <tr>\n",
       "      <th>2</th>\n",
       "      <td>10</td>\n",
       "      <td>1</td>\n",
       "      <td>Stan</td>\n",
       "      <td>Forever.\\n</td>\n",
       "    </tr>\n",
       "    <tr>\n",
       "      <th>3</th>\n",
       "      <td>10</td>\n",
       "      <td>1</td>\n",
       "      <td>Chef</td>\n",
       "      <td>I'm sorry boys.\\n</td>\n",
       "    </tr>\n",
       "    <tr>\n",
       "      <th>4</th>\n",
       "      <td>10</td>\n",
       "      <td>1</td>\n",
       "      <td>Stan</td>\n",
       "      <td>Chef said he's been bored, so he joining a gro...</td>\n",
       "    </tr>\n",
       "  </tbody>\n",
       "</table>\n",
       "</div>"
      ],
      "text/plain": [
       "  Season Episode Character                                               Line\n",
       "0     10       1      Stan         You guys, you guys! Chef is going away. \\n\n",
       "1     10       1      Kyle                        Going away? For how long?\\n\n",
       "2     10       1      Stan                                         Forever.\\n\n",
       "3     10       1      Chef                                  I'm sorry boys.\\n\n",
       "4     10       1      Stan  Chef said he's been bored, so he joining a gro..."
      ]
     },
     "execution_count": 3,
     "metadata": {},
     "output_type": "execute_result"
    }
   ],
   "source": [
    "df.head()"
   ]
  },
  {
   "cell_type": "markdown",
   "metadata": {},
   "source": [
    "Выбираем наиболее \"разговорчивых персонажей\"."
   ]
  },
  {
   "cell_type": "code",
   "execution_count": 4,
   "metadata": {
    "collapsed": false
   },
   "outputs": [
    {
     "name": "stdout",
     "output_type": "stream",
     "text": [
      "       Season Episode Character     Line\n",
      "count    9774    9774      9774     9774\n",
      "unique     18      18         1     9340\n",
      "top         4       7   Cartman  What?\\n\n",
      "freq      801     850      9774       52        Season Episode Character     Line\n",
      "count    7680    7680      7680     7680\n",
      "unique     18      18         1     6995\n",
      "top         2      10      Stan  What?\\n\n",
      "freq      831     594      7680       73        Season Episode Character     Line\n",
      "count    7099    7099      7099     7099\n",
      "unique     18      18         1     6493\n",
      "top         2       1      Kyle  What?\\n\n",
      "freq      824     635      7099       61        Season Episode Character    Line\n",
      "count    2602    2602      2602    2602\n",
      "unique     17      17         1    2499\n",
      "top         6      14   Butters  Huh?\\n\n",
      "freq      378     281      2602      16        Season Episode Character     Line\n",
      "count    2467    2467      2467     2467\n",
      "unique     18      17         1     2406\n",
      "top        14       8     Randy  What?\\n\n",
      "freq      224     259      2467       13\n"
     ]
    }
   ],
   "source": [
    "Cartman_P= df[df['Character'] == 'Cartman']\n",
    "Stan_P = df[df['Character'] == 'Stan']\n",
    "Kyle_P = df[df['Character'] == 'Kyle']\n",
    "Butters_P = df[df['Character'] == 'Butters']\n",
    "Randy_P = df[df['Character'] == 'Randy']\n",
    "print(Cartman_P.describe(), Stan_P.describe(), Kyle_P.describe(), Butters_P.describe(),Randy_P.describe())"
   ]
  },
  {
   "cell_type": "markdown",
   "metadata": {},
   "source": [
    "Уравниваем, достиагем баланса в репликах для более достоверногот результата."
   ]
  },
  {
   "cell_type": "code",
   "execution_count": 6,
   "metadata": {
    "collapsed": false
   },
   "outputs": [],
   "source": [
    "Cartman_P = Cartman_P[:2400]\n",
    "Stan_P = Stan_P[:2400]\n",
    "Kyle_P = Kyle_P[:2400]\n",
    "Butters_P = Butters_P[:2400]\n",
    "Randy_P = Randy_P[:2400]\n",
    "talkativecharacters = pd.concat([Cartman_P, Stan_P, Kyle_P, Butters_P,Randy_P])\n"
   ]
  },
  {
   "cell_type": "code",
   "execution_count": 7,
   "metadata": {
    "collapsed": false
   },
   "outputs": [
    {
     "data": {
      "text/html": [
       "<div>\n",
       "<table border=\"1\" class=\"dataframe\">\n",
       "  <thead>\n",
       "    <tr style=\"text-align: right;\">\n",
       "      <th></th>\n",
       "      <th></th>\n",
       "      <th>Episode</th>\n",
       "      <th>Line</th>\n",
       "      <th>Season</th>\n",
       "    </tr>\n",
       "    <tr>\n",
       "      <th>Character</th>\n",
       "      <th></th>\n",
       "      <th></th>\n",
       "      <th></th>\n",
       "      <th></th>\n",
       "    </tr>\n",
       "  </thead>\n",
       "  <tbody>\n",
       "    <tr>\n",
       "      <th rowspan=\"4\" valign=\"top\">Butters</th>\n",
       "      <th>count</th>\n",
       "      <td>2400</td>\n",
       "      <td>2400</td>\n",
       "      <td>2400</td>\n",
       "    </tr>\n",
       "    <tr>\n",
       "      <th>unique</th>\n",
       "      <td>17</td>\n",
       "      <td>2307</td>\n",
       "      <td>16</td>\n",
       "    </tr>\n",
       "    <tr>\n",
       "      <th>top</th>\n",
       "      <td>14</td>\n",
       "      <td>Huh?\\n</td>\n",
       "      <td>6</td>\n",
       "    </tr>\n",
       "    <tr>\n",
       "      <th>freq</th>\n",
       "      <td>279</td>\n",
       "      <td>13</td>\n",
       "      <td>378</td>\n",
       "    </tr>\n",
       "    <tr>\n",
       "      <th rowspan=\"4\" valign=\"top\">Cartman</th>\n",
       "      <th>count</th>\n",
       "      <td>2400</td>\n",
       "      <td>2400</td>\n",
       "      <td>2400</td>\n",
       "    </tr>\n",
       "    <tr>\n",
       "      <th>unique</th>\n",
       "      <td>14</td>\n",
       "      <td>2359</td>\n",
       "      <td>6</td>\n",
       "    </tr>\n",
       "    <tr>\n",
       "      <th>top</th>\n",
       "      <td>8</td>\n",
       "      <td>What?\\n</td>\n",
       "      <td>10</td>\n",
       "    </tr>\n",
       "    <tr>\n",
       "      <th>freq</th>\n",
       "      <td>317</td>\n",
       "      <td>12</td>\n",
       "      <td>574</td>\n",
       "    </tr>\n",
       "    <tr>\n",
       "      <th rowspan=\"4\" valign=\"top\">Kyle</th>\n",
       "      <th>count</th>\n",
       "      <td>2400</td>\n",
       "      <td>2400</td>\n",
       "      <td>2400</td>\n",
       "    </tr>\n",
       "    <tr>\n",
       "      <th>unique</th>\n",
       "      <td>14</td>\n",
       "      <td>2259</td>\n",
       "      <td>9</td>\n",
       "    </tr>\n",
       "    <tr>\n",
       "      <th>top</th>\n",
       "      <td>1</td>\n",
       "      <td>What?\\n</td>\n",
       "      <td>10</td>\n",
       "    </tr>\n",
       "    <tr>\n",
       "      <th>freq</th>\n",
       "      <td>242</td>\n",
       "      <td>31</td>\n",
       "      <td>355</td>\n",
       "    </tr>\n",
       "    <tr>\n",
       "      <th rowspan=\"4\" valign=\"top\">Randy</th>\n",
       "      <th>count</th>\n",
       "      <td>2400</td>\n",
       "      <td>2400</td>\n",
       "      <td>2400</td>\n",
       "    </tr>\n",
       "    <tr>\n",
       "      <th>unique</th>\n",
       "      <td>17</td>\n",
       "      <td>2341</td>\n",
       "      <td>18</td>\n",
       "    </tr>\n",
       "    <tr>\n",
       "      <th>top</th>\n",
       "      <td>8</td>\n",
       "      <td>What?\\n</td>\n",
       "      <td>14</td>\n",
       "    </tr>\n",
       "    <tr>\n",
       "      <th>freq</th>\n",
       "      <td>259</td>\n",
       "      <td>12</td>\n",
       "      <td>224</td>\n",
       "    </tr>\n",
       "    <tr>\n",
       "      <th rowspan=\"4\" valign=\"top\">Stan</th>\n",
       "      <th>count</th>\n",
       "      <td>2400</td>\n",
       "      <td>2400</td>\n",
       "      <td>2400</td>\n",
       "    </tr>\n",
       "    <tr>\n",
       "      <th>unique</th>\n",
       "      <td>14</td>\n",
       "      <td>2269</td>\n",
       "      <td>10</td>\n",
       "    </tr>\n",
       "    <tr>\n",
       "      <th>top</th>\n",
       "      <td>2</td>\n",
       "      <td>What?\\n</td>\n",
       "      <td>16</td>\n",
       "    </tr>\n",
       "    <tr>\n",
       "      <th>freq</th>\n",
       "      <td>230</td>\n",
       "      <td>28</td>\n",
       "      <td>326</td>\n",
       "    </tr>\n",
       "  </tbody>\n",
       "</table>\n",
       "</div>"
      ],
      "text/plain": [
       "                 Episode     Line Season\n",
       "Character                               \n",
       "Butters   count     2400     2400   2400\n",
       "          unique      17     2307     16\n",
       "          top         14   Huh?\\n      6\n",
       "          freq       279       13    378\n",
       "Cartman   count     2400     2400   2400\n",
       "          unique      14     2359      6\n",
       "          top          8  What?\\n     10\n",
       "          freq       317       12    574\n",
       "Kyle      count     2400     2400   2400\n",
       "          unique      14     2259      9\n",
       "          top          1  What?\\n     10\n",
       "          freq       242       31    355\n",
       "Randy     count     2400     2400   2400\n",
       "          unique      17     2341     18\n",
       "          top          8  What?\\n     14\n",
       "          freq       259       12    224\n",
       "Stan      count     2400     2400   2400\n",
       "          unique      14     2269     10\n",
       "          top          2  What?\\n     16\n",
       "          freq       230       28    326"
      ]
     },
     "execution_count": 7,
     "metadata": {},
     "output_type": "execute_result"
    }
   ],
   "source": [
    "talkativecharacters.groupby('Character').describe()"
   ]
  },
  {
   "cell_type": "markdown",
   "metadata": {},
   "source": [
    "Начинаем обучение!"
   ]
  },
  {
   "cell_type": "code",
   "execution_count": 13,
   "metadata": {
    "collapsed": false
   },
   "outputs": [],
   "source": [
    "X_train, X_test, y_train, y_test = train_test_split(talkativecharacters['Line'], talkativecharacters['Character'], test_size=0.2)"
   ]
  },
  {
   "cell_type": "code",
   "execution_count": 14,
   "metadata": {
    "collapsed": false
   },
   "outputs": [],
   "source": [
    "cv = CountVectorizer(stop_words=\"english\")\n",
    "X_trained = cv.fit_transform(X_train)\n",
    "X_tested = cv.transform(X_test)"
   ]
  },
  {
   "cell_type": "code",
   "execution_count": 15,
   "metadata": {
    "collapsed": false,
    "scrolled": true
   },
   "outputs": [
    {
     "name": "stdout",
     "output_type": "stream",
     "text": [
      "             precision    recall  f1-score   support\n",
      "\n",
      "    Butters       0.22      0.21      0.21       512\n",
      "    Cartman       0.18      0.19      0.19       470\n",
      "       Kyle       0.17      0.17      0.17       484\n",
      "      Randy       0.18      0.19      0.19       455\n",
      "       Stan       0.20      0.20      0.20       479\n",
      "\n",
      "avg / total       0.19      0.19      0.19      2400\n",
      "\n"
     ]
    }
   ],
   "source": [
    "dc = DummyClassifier()\n",
    "dc.fit(X_trained, y_train)\n",
    "pred = dc.predict(X_tested)\n",
    "print(classification_report(y_test, pred))"
   ]
  },
  {
   "cell_type": "markdown",
   "metadata": {},
   "source": [
    "Дамми показал, что разброс не большой."
   ]
  },
  {
   "cell_type": "code",
   "execution_count": 21,
   "metadata": {
    "collapsed": false
   },
   "outputs": [
    {
     "name": "stdout",
     "output_type": "stream",
     "text": [
      "             precision    recall  f1-score   support\n",
      "\n",
      "    Butters       0.50      0.42      0.46       512\n",
      "    Cartman       0.41      0.37      0.39       470\n",
      "       Kyle       0.31      0.44      0.36       484\n",
      "      Randy       0.46      0.38      0.42       455\n",
      "       Stan       0.28      0.28      0.28       479\n",
      "\n",
      "avg / total       0.39      0.38      0.38      2400\n",
      "\n"
     ]
    }
   ],
   "source": [
    "rfcl = RandomForestClassifier()\n",
    "rfcl.fit(X_trained,  y_train)\n",
    "pred = rfcl.predict(X_tested)\n",
    "print(classification_report(y_test, pred))"
   ]
  },
  {
   "cell_type": "code",
   "execution_count": null,
   "metadata": {
    "collapsed": true
   },
   "outputs": [],
   "source": [
    "Лес определяет достаточно плохо по сравнению с другими."
   ]
  },
  {
   "cell_type": "code",
   "execution_count": 27,
   "metadata": {
    "collapsed": false
   },
   "outputs": [
    {
     "name": "stdout",
     "output_type": "stream",
     "text": [
      "             precision    recall  f1-score   support\n",
      "\n",
      "    Butters       0.63      0.53      0.58       512\n",
      "    Cartman       0.45      0.57      0.50       470\n",
      "       Kyle       0.42      0.32      0.36       484\n",
      "      Randy       0.41      0.55      0.47       455\n",
      "       Stan       0.40      0.33      0.36       479\n",
      "\n",
      "avg / total       0.46      0.46      0.46      2400\n",
      "\n"
     ]
    }
   ],
   "source": [
    "naive_model = MultinomialNB()\n",
    "naive_model.fit(X_trained,  y_train)\n",
    "pred = naive_model.predict(X_tested)\n",
    "print(classification_report(y_test, pred))"
   ]
  },
  {
   "cell_type": "markdown",
   "metadata": {},
   "source": [
    "Наибольшая точность!"
   ]
  },
  {
   "cell_type": "code",
   "execution_count": 23,
   "metadata": {
    "collapsed": false
   },
   "outputs": [
    {
     "name": "stdout",
     "output_type": "stream",
     "text": [
      "             precision    recall  f1-score   support\n",
      "\n",
      "    Butters       0.60      0.52      0.55       512\n",
      "    Cartman       0.47      0.48      0.48       470\n",
      "       Kyle       0.35      0.42      0.38       484\n",
      "      Randy       0.49      0.45      0.47       455\n",
      "       Stan       0.32      0.33      0.33       479\n",
      "\n",
      "avg / total       0.45      0.44      0.44      2400\n",
      "\n"
     ]
    }
   ],
   "source": [
    "lr = LogisticRegression()\n",
    "lr.fit(X_trained,  y_train)\n",
    "pred = lr.predict(X_tested)\n",
    "print(classification_report(y_test, pred))"
   ]
  },
  {
   "cell_type": "markdown",
   "metadata": {},
   "source": [
    "Относительно неплохой результат, но всё же уступает наивному Байесу :("
   ]
  },
  {
   "cell_type": "code",
   "execution_count": null,
   "metadata": {
    "collapsed": true
   },
   "outputs": [],
   "source": [
    "Наиточнейшие результаты - в Байесе."
   ]
  },
  {
   "cell_type": "code",
   "execution_count": null,
   "metadata": {
    "collapsed": true
   },
   "outputs": [],
   "source": []
  }
 ],
 "metadata": {
  "kernelspec": {
   "display_name": "Python 3",
   "language": "python",
   "name": "python3"
  },
  "language_info": {
   "codemirror_mode": {
    "name": "ipython",
    "version": 3
   },
   "file_extension": ".py",
   "mimetype": "text/x-python",
   "name": "python",
   "nbconvert_exporter": "python",
   "pygments_lexer": "ipython3",
   "version": "3.6.0"
  }
 },
 "nbformat": 4,
 "nbformat_minor": 2
}
